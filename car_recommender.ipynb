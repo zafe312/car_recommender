{
  "nbformat": 4,
  "nbformat_minor": 0,
  "metadata": {
    "colab": {
      "name": "car_recommender.ipynb",
      "provenance": [],
      "authorship_tag": "ABX9TyOFuQd2Qr4EEpTqY9HoBAvl",
      "include_colab_link": true
    },
    "kernelspec": {
      "name": "python3",
      "display_name": "Python 3"
    },
    "language_info": {
      "name": "python"
    }
  },
  "cells": [
    {
      "cell_type": "markdown",
      "metadata": {
        "id": "view-in-github",
        "colab_type": "text"
      },
      "source": [
        "<a href=\"https://colab.research.google.com/github/zafe312/car_recommender/blob/main/car_recommender.ipynb\" target=\"_parent\"><img src=\"https://colab.research.google.com/assets/colab-badge.svg\" alt=\"Open In Colab\"/></a>"
      ]
    },
    {
      "cell_type": "markdown",
      "source": [
        "# AI clustering to recommend cars based on user input\n",
        "\n",
        "\n",
        "1.   Create dataset\n",
        "2.   Test out different classifiers\n",
        "\n"
      ],
      "metadata": {
        "id": "nEzSgorDovT3"
      }
    },
    {
      "cell_type": "markdown",
      "source": [
        "## Create random dataset"
      ],
      "metadata": {
        "id": "wEdVeuaMLftj"
      }
    },
    {
      "cell_type": "code",
      "source": [
        "import pandas as pd\n",
        "import numpy as np\n",
        "import random"
      ],
      "metadata": {
        "id": "gsjTzSOao3MI"
      },
      "execution_count": 1,
      "outputs": []
    },
    {
      "cell_type": "code",
      "source": [
        "# Features of each datapoint\n",
        "columns = ['id', 'Listed Name', 'Condition', 'Make', 'Model', 'Body', 'Mileage', 'Month', 'Year', 'Price', 'Length', 'Width', 'Height', 'Ground clearance', 'Seats', \n",
        "           'Global NCAP', 'Fuel type', 'Engine', 'Displacement', 'Cylinder', 'Transmission', 'Drive', 'Exterior Color', 'Interior Color', 'Unladen weight', \n",
        "           'Gross vehicle weight', 'Location', 'Latitude', 'Longitude']"
      ],
      "metadata": {
        "id": "Qx9d4AVzqo6O"
      },
      "execution_count": 2,
      "outputs": []
    },
    {
      "cell_type": "code",
      "source": [
        "id = [1000 + i for i in range(1,500)]\n",
        "Condition = ['New', 'Used', 'Certified']\n",
        "Make = ['Hyundai', 'Tata', 'Mahindra', 'Nissan', 'Toyota', 'Kia', 'Ford', 'Chevrolet', 'Honda', 'Maruti Suzuki', 'Renault']\n",
        "Model = ['A','B','C']\n",
        "Body = ['Hatchback', 'SUV', 'CUV', 'MUV', 'Sedan', 'Minivan', 'Convertible', 'Coupe', 'Off-road']\n",
        "Month = ['Jan', 'Feb', 'Mar', 'Apr', 'May', 'Jun', 'Jul', 'Aug', 'Sep', 'Oct', 'Nov', 'Dec']\n",
        "Year = [2005 + i for i in range(18)]\n",
        "price_min = 300000\n",
        "price_max = 2200000\n",
        "Seats = [5,6,7,8,10]\n",
        "Ncap = [0,1,2,3,4,5]\n",
        "Fuel = ['Petrol', 'Diesel', 'Electric', 'Hybrid']\n",
        "Cylinder = [3,4,5]\n",
        "Transmission = ['Automatic', 'Semi-automatic', 'Manual']\n",
        "Drive = ['FWD', 'BWD', '4WD']\n",
        "Ext_color = ['White', 'Red', 'Black', 'Brown', 'Silver', 'Green', 'Biege']\n",
        "Int_color = ['Grey', 'Silver', 'Brown', 'Red']"
      ],
      "metadata": {
        "id": "cuvfS2sL5mf7"
      },
      "execution_count": 3,
      "outputs": []
    },
    {
      "cell_type": "code",
      "source": [
        "# Create DataFrame\n",
        "df = pd.DataFrame(columns=columns)\n",
        "\n",
        "# Generate random data \n",
        "for i in id:\n",
        "  condition = random.choice(Condition)\n",
        "  make = random.choice(Make)\n",
        "  model = random.choice(Model)\n",
        "  year = random.choice(Year)\n",
        "  listed_name = f'{condition} {year} {make} {model}'\n",
        "  body = random.choice(Body)\n",
        "  mileage = random.randint(2000,100000)\n",
        "  month = random.choice(Month)\n",
        "  price = random.randint(price_min,price_max)\n",
        "  length = random.randint(1000,1500)\n",
        "  width = random.randint(800,1000)\n",
        "  height = random.randint(600,1000)\n",
        "  gd_clearance = random.randint(100,200)\n",
        "  seats = random.choice(Seats)\n",
        "  ncap = random.choice(Ncap)\n",
        "  fuel = random.choice(Fuel)\n",
        "  engine = random.randint(1,10)\n",
        "  displacement = random.randint(1000,1500)\n",
        "  cylinder = random.choice(Cylinder)\n",
        "  transmission = random.choice(Transmission)\n",
        "  drive = random.choice(Drive)\n",
        "  ext_color = random.choice(Ext_color)\n",
        "  int_color = random.choice(Int_color)\n",
        "  un_weight = random.randint(1000,2000)\n",
        "  gross_weight = un_weight + random.randint(50, 100)\n",
        "  location = random.randint(183773,799382)\n",
        "  lat = random.uniform(80,127)\n",
        "  lon = random.uniform(68,97)\n",
        "\n",
        "\n",
        "  car = [i, listed_name, condition, make, model, body, mileage, month, year, price, length, width, height, \n",
        "         gd_clearance, seats, ncap, fuel, engine, displacement, cylinder, transmission, drive, ext_color, \n",
        "         int_color, un_weight, gross_weight, location, lat, lon]\n",
        "  df = pd.DataFrame(np.insert(df.values, len(df.index), values=car, axis=0))\n",
        "\n",
        "df.columns = columns\n",
        "df = df.set_index('id')\n",
        "df.head()"
      ],
      "metadata": {
        "colab": {
          "base_uri": "https://localhost:8080/",
          "height": 562
        },
        "id": "3CoLCZOT-CGT",
        "outputId": "a12a96ec-d7af-4bb8-d180-84630257d8ce"
      },
      "execution_count": 4,
      "outputs": [
        {
          "output_type": "execute_result",
          "data": {
            "text/html": [
              "\n",
              "  <div id=\"df-003984a9-abfa-4f5c-9d16-2f2951c7a58d\">\n",
              "    <div class=\"colab-df-container\">\n",
              "      <div>\n",
              "<style scoped>\n",
              "    .dataframe tbody tr th:only-of-type {\n",
              "        vertical-align: middle;\n",
              "    }\n",
              "\n",
              "    .dataframe tbody tr th {\n",
              "        vertical-align: top;\n",
              "    }\n",
              "\n",
              "    .dataframe thead th {\n",
              "        text-align: right;\n",
              "    }\n",
              "</style>\n",
              "<table border=\"1\" class=\"dataframe\">\n",
              "  <thead>\n",
              "    <tr style=\"text-align: right;\">\n",
              "      <th></th>\n",
              "      <th>Listed Name</th>\n",
              "      <th>Condition</th>\n",
              "      <th>Make</th>\n",
              "      <th>Model</th>\n",
              "      <th>Body</th>\n",
              "      <th>Mileage</th>\n",
              "      <th>Month</th>\n",
              "      <th>Year</th>\n",
              "      <th>Price</th>\n",
              "      <th>Length</th>\n",
              "      <th>Width</th>\n",
              "      <th>Height</th>\n",
              "      <th>Ground clearance</th>\n",
              "      <th>Seats</th>\n",
              "      <th>Global NCAP</th>\n",
              "      <th>Fuel type</th>\n",
              "      <th>Engine</th>\n",
              "      <th>Displacement</th>\n",
              "      <th>Cylinder</th>\n",
              "      <th>Transmission</th>\n",
              "      <th>Drive</th>\n",
              "      <th>Exterior Color</th>\n",
              "      <th>Interior Color</th>\n",
              "      <th>Unladen weight</th>\n",
              "      <th>Gross vehicle weight</th>\n",
              "      <th>Location</th>\n",
              "      <th>Latitude</th>\n",
              "      <th>Longitude</th>\n",
              "    </tr>\n",
              "    <tr>\n",
              "      <th>id</th>\n",
              "      <th></th>\n",
              "      <th></th>\n",
              "      <th></th>\n",
              "      <th></th>\n",
              "      <th></th>\n",
              "      <th></th>\n",
              "      <th></th>\n",
              "      <th></th>\n",
              "      <th></th>\n",
              "      <th></th>\n",
              "      <th></th>\n",
              "      <th></th>\n",
              "      <th></th>\n",
              "      <th></th>\n",
              "      <th></th>\n",
              "      <th></th>\n",
              "      <th></th>\n",
              "      <th></th>\n",
              "      <th></th>\n",
              "      <th></th>\n",
              "      <th></th>\n",
              "      <th></th>\n",
              "      <th></th>\n",
              "      <th></th>\n",
              "      <th></th>\n",
              "      <th></th>\n",
              "      <th></th>\n",
              "      <th></th>\n",
              "    </tr>\n",
              "  </thead>\n",
              "  <tbody>\n",
              "    <tr>\n",
              "      <th>1001</th>\n",
              "      <td>New 2016 Renault A</td>\n",
              "      <td>New</td>\n",
              "      <td>Renault</td>\n",
              "      <td>A</td>\n",
              "      <td>Hatchback</td>\n",
              "      <td>48455</td>\n",
              "      <td>Oct</td>\n",
              "      <td>2016</td>\n",
              "      <td>2018950</td>\n",
              "      <td>1281</td>\n",
              "      <td>837</td>\n",
              "      <td>808</td>\n",
              "      <td>160</td>\n",
              "      <td>8</td>\n",
              "      <td>0</td>\n",
              "      <td>Diesel</td>\n",
              "      <td>2</td>\n",
              "      <td>1398</td>\n",
              "      <td>3</td>\n",
              "      <td>Manual</td>\n",
              "      <td>FWD</td>\n",
              "      <td>Black</td>\n",
              "      <td>Brown</td>\n",
              "      <td>1504</td>\n",
              "      <td>1593</td>\n",
              "      <td>301382</td>\n",
              "      <td>94.1203</td>\n",
              "      <td>85.6728</td>\n",
              "    </tr>\n",
              "    <tr>\n",
              "      <th>1002</th>\n",
              "      <td>Used 2016 Renault C</td>\n",
              "      <td>Used</td>\n",
              "      <td>Renault</td>\n",
              "      <td>C</td>\n",
              "      <td>Convertible</td>\n",
              "      <td>97712</td>\n",
              "      <td>Jun</td>\n",
              "      <td>2016</td>\n",
              "      <td>1643289</td>\n",
              "      <td>1440</td>\n",
              "      <td>960</td>\n",
              "      <td>859</td>\n",
              "      <td>135</td>\n",
              "      <td>10</td>\n",
              "      <td>2</td>\n",
              "      <td>Diesel</td>\n",
              "      <td>1</td>\n",
              "      <td>1488</td>\n",
              "      <td>5</td>\n",
              "      <td>Semi-automatic</td>\n",
              "      <td>4WD</td>\n",
              "      <td>Black</td>\n",
              "      <td>Red</td>\n",
              "      <td>1058</td>\n",
              "      <td>1121</td>\n",
              "      <td>631358</td>\n",
              "      <td>117.589</td>\n",
              "      <td>92.289</td>\n",
              "    </tr>\n",
              "    <tr>\n",
              "      <th>1003</th>\n",
              "      <td>New 2008 Toyota C</td>\n",
              "      <td>New</td>\n",
              "      <td>Toyota</td>\n",
              "      <td>C</td>\n",
              "      <td>Convertible</td>\n",
              "      <td>14977</td>\n",
              "      <td>Jan</td>\n",
              "      <td>2008</td>\n",
              "      <td>966871</td>\n",
              "      <td>1020</td>\n",
              "      <td>965</td>\n",
              "      <td>892</td>\n",
              "      <td>148</td>\n",
              "      <td>7</td>\n",
              "      <td>2</td>\n",
              "      <td>Petrol</td>\n",
              "      <td>5</td>\n",
              "      <td>1005</td>\n",
              "      <td>3</td>\n",
              "      <td>Automatic</td>\n",
              "      <td>FWD</td>\n",
              "      <td>Black</td>\n",
              "      <td>Grey</td>\n",
              "      <td>1835</td>\n",
              "      <td>1905</td>\n",
              "      <td>265067</td>\n",
              "      <td>103.024</td>\n",
              "      <td>79.7265</td>\n",
              "    </tr>\n",
              "    <tr>\n",
              "      <th>1004</th>\n",
              "      <td>New 2016 Toyota C</td>\n",
              "      <td>New</td>\n",
              "      <td>Toyota</td>\n",
              "      <td>C</td>\n",
              "      <td>CUV</td>\n",
              "      <td>78096</td>\n",
              "      <td>Sep</td>\n",
              "      <td>2016</td>\n",
              "      <td>744309</td>\n",
              "      <td>1028</td>\n",
              "      <td>982</td>\n",
              "      <td>632</td>\n",
              "      <td>104</td>\n",
              "      <td>6</td>\n",
              "      <td>3</td>\n",
              "      <td>Diesel</td>\n",
              "      <td>2</td>\n",
              "      <td>1273</td>\n",
              "      <td>5</td>\n",
              "      <td>Manual</td>\n",
              "      <td>FWD</td>\n",
              "      <td>Black</td>\n",
              "      <td>Brown</td>\n",
              "      <td>1020</td>\n",
              "      <td>1077</td>\n",
              "      <td>379285</td>\n",
              "      <td>109.115</td>\n",
              "      <td>89.1114</td>\n",
              "    </tr>\n",
              "    <tr>\n",
              "      <th>1005</th>\n",
              "      <td>Certified 2010 Chevrolet B</td>\n",
              "      <td>Certified</td>\n",
              "      <td>Chevrolet</td>\n",
              "      <td>B</td>\n",
              "      <td>CUV</td>\n",
              "      <td>97734</td>\n",
              "      <td>Jun</td>\n",
              "      <td>2010</td>\n",
              "      <td>2143113</td>\n",
              "      <td>1320</td>\n",
              "      <td>898</td>\n",
              "      <td>985</td>\n",
              "      <td>190</td>\n",
              "      <td>5</td>\n",
              "      <td>3</td>\n",
              "      <td>Diesel</td>\n",
              "      <td>2</td>\n",
              "      <td>1328</td>\n",
              "      <td>5</td>\n",
              "      <td>Manual</td>\n",
              "      <td>BWD</td>\n",
              "      <td>Silver</td>\n",
              "      <td>Red</td>\n",
              "      <td>1258</td>\n",
              "      <td>1339</td>\n",
              "      <td>397080</td>\n",
              "      <td>121.326</td>\n",
              "      <td>86.237</td>\n",
              "    </tr>\n",
              "  </tbody>\n",
              "</table>\n",
              "</div>\n",
              "      <button class=\"colab-df-convert\" onclick=\"convertToInteractive('df-003984a9-abfa-4f5c-9d16-2f2951c7a58d')\"\n",
              "              title=\"Convert this dataframe to an interactive table.\"\n",
              "              style=\"display:none;\">\n",
              "        \n",
              "  <svg xmlns=\"http://www.w3.org/2000/svg\" height=\"24px\"viewBox=\"0 0 24 24\"\n",
              "       width=\"24px\">\n",
              "    <path d=\"M0 0h24v24H0V0z\" fill=\"none\"/>\n",
              "    <path d=\"M18.56 5.44l.94 2.06.94-2.06 2.06-.94-2.06-.94-.94-2.06-.94 2.06-2.06.94zm-11 1L8.5 8.5l.94-2.06 2.06-.94-2.06-.94L8.5 2.5l-.94 2.06-2.06.94zm10 10l.94 2.06.94-2.06 2.06-.94-2.06-.94-.94-2.06-.94 2.06-2.06.94z\"/><path d=\"M17.41 7.96l-1.37-1.37c-.4-.4-.92-.59-1.43-.59-.52 0-1.04.2-1.43.59L10.3 9.45l-7.72 7.72c-.78.78-.78 2.05 0 2.83L4 21.41c.39.39.9.59 1.41.59.51 0 1.02-.2 1.41-.59l7.78-7.78 2.81-2.81c.8-.78.8-2.07 0-2.86zM5.41 20L4 18.59l7.72-7.72 1.47 1.35L5.41 20z\"/>\n",
              "  </svg>\n",
              "      </button>\n",
              "      \n",
              "  <style>\n",
              "    .colab-df-container {\n",
              "      display:flex;\n",
              "      flex-wrap:wrap;\n",
              "      gap: 12px;\n",
              "    }\n",
              "\n",
              "    .colab-df-convert {\n",
              "      background-color: #E8F0FE;\n",
              "      border: none;\n",
              "      border-radius: 50%;\n",
              "      cursor: pointer;\n",
              "      display: none;\n",
              "      fill: #1967D2;\n",
              "      height: 32px;\n",
              "      padding: 0 0 0 0;\n",
              "      width: 32px;\n",
              "    }\n",
              "\n",
              "    .colab-df-convert:hover {\n",
              "      background-color: #E2EBFA;\n",
              "      box-shadow: 0px 1px 2px rgba(60, 64, 67, 0.3), 0px 1px 3px 1px rgba(60, 64, 67, 0.15);\n",
              "      fill: #174EA6;\n",
              "    }\n",
              "\n",
              "    [theme=dark] .colab-df-convert {\n",
              "      background-color: #3B4455;\n",
              "      fill: #D2E3FC;\n",
              "    }\n",
              "\n",
              "    [theme=dark] .colab-df-convert:hover {\n",
              "      background-color: #434B5C;\n",
              "      box-shadow: 0px 1px 3px 1px rgba(0, 0, 0, 0.15);\n",
              "      filter: drop-shadow(0px 1px 2px rgba(0, 0, 0, 0.3));\n",
              "      fill: #FFFFFF;\n",
              "    }\n",
              "  </style>\n",
              "\n",
              "      <script>\n",
              "        const buttonEl =\n",
              "          document.querySelector('#df-003984a9-abfa-4f5c-9d16-2f2951c7a58d button.colab-df-convert');\n",
              "        buttonEl.style.display =\n",
              "          google.colab.kernel.accessAllowed ? 'block' : 'none';\n",
              "\n",
              "        async function convertToInteractive(key) {\n",
              "          const element = document.querySelector('#df-003984a9-abfa-4f5c-9d16-2f2951c7a58d');\n",
              "          const dataTable =\n",
              "            await google.colab.kernel.invokeFunction('convertToInteractive',\n",
              "                                                     [key], {});\n",
              "          if (!dataTable) return;\n",
              "\n",
              "          const docLinkHtml = 'Like what you see? Visit the ' +\n",
              "            '<a target=\"_blank\" href=https://colab.research.google.com/notebooks/data_table.ipynb>data table notebook</a>'\n",
              "            + ' to learn more about interactive tables.';\n",
              "          element.innerHTML = '';\n",
              "          dataTable['output_type'] = 'display_data';\n",
              "          await google.colab.output.renderOutput(dataTable, element);\n",
              "          const docLink = document.createElement('div');\n",
              "          docLink.innerHTML = docLinkHtml;\n",
              "          element.appendChild(docLink);\n",
              "        }\n",
              "      </script>\n",
              "    </div>\n",
              "  </div>\n",
              "  "
            ],
            "text/plain": [
              "                     Listed Name  Condition  ... Latitude Longitude\n",
              "id                                           ...                   \n",
              "1001          New 2016 Renault A        New  ...  94.1203   85.6728\n",
              "1002         Used 2016 Renault C       Used  ...  117.589    92.289\n",
              "1003           New 2008 Toyota C        New  ...  103.024   79.7265\n",
              "1004           New 2016 Toyota C        New  ...  109.115   89.1114\n",
              "1005  Certified 2010 Chevrolet B  Certified  ...  121.326    86.237\n",
              "\n",
              "[5 rows x 28 columns]"
            ]
          },
          "metadata": {},
          "execution_count": 4
        }
      ]
    },
    {
      "cell_type": "markdown",
      "source": [
        "## Visualization"
      ],
      "metadata": {
        "id": "_6Sa1HvzLSeE"
      }
    },
    {
      "cell_type": "code",
      "source": [
        "import seaborn as sns\n",
        "import matplotlib.pyplot as plt\n",
        "%matplotlib inline"
      ],
      "metadata": {
        "id": "Fv7D8sHFLuRP"
      },
      "execution_count": 5,
      "outputs": []
    },
    {
      "cell_type": "code",
      "source": [
        "df.describe()"
      ],
      "metadata": {
        "colab": {
          "base_uri": "https://localhost:8080/",
          "height": 326
        },
        "id": "LhikGybgrAsd",
        "outputId": "7b943d99-c9a7-4fad-a4db-b74d20456667"
      },
      "execution_count": 6,
      "outputs": [
        {
          "output_type": "execute_result",
          "data": {
            "text/html": [
              "\n",
              "  <div id=\"df-5bc6d678-a79a-4a9c-a3ce-4ae478224151\">\n",
              "    <div class=\"colab-df-container\">\n",
              "      <div>\n",
              "<style scoped>\n",
              "    .dataframe tbody tr th:only-of-type {\n",
              "        vertical-align: middle;\n",
              "    }\n",
              "\n",
              "    .dataframe tbody tr th {\n",
              "        vertical-align: top;\n",
              "    }\n",
              "\n",
              "    .dataframe thead th {\n",
              "        text-align: right;\n",
              "    }\n",
              "</style>\n",
              "<table border=\"1\" class=\"dataframe\">\n",
              "  <thead>\n",
              "    <tr style=\"text-align: right;\">\n",
              "      <th></th>\n",
              "      <th>Listed Name</th>\n",
              "      <th>Condition</th>\n",
              "      <th>Make</th>\n",
              "      <th>Model</th>\n",
              "      <th>Body</th>\n",
              "      <th>Mileage</th>\n",
              "      <th>Month</th>\n",
              "      <th>Year</th>\n",
              "      <th>Price</th>\n",
              "      <th>Length</th>\n",
              "      <th>Width</th>\n",
              "      <th>Height</th>\n",
              "      <th>Ground clearance</th>\n",
              "      <th>Seats</th>\n",
              "      <th>Global NCAP</th>\n",
              "      <th>Fuel type</th>\n",
              "      <th>Engine</th>\n",
              "      <th>Displacement</th>\n",
              "      <th>Cylinder</th>\n",
              "      <th>Transmission</th>\n",
              "      <th>Drive</th>\n",
              "      <th>Exterior Color</th>\n",
              "      <th>Interior Color</th>\n",
              "      <th>Unladen weight</th>\n",
              "      <th>Gross vehicle weight</th>\n",
              "      <th>Location</th>\n",
              "      <th>Latitude</th>\n",
              "      <th>Longitude</th>\n",
              "    </tr>\n",
              "  </thead>\n",
              "  <tbody>\n",
              "    <tr>\n",
              "      <th>count</th>\n",
              "      <td>499</td>\n",
              "      <td>499</td>\n",
              "      <td>499</td>\n",
              "      <td>499</td>\n",
              "      <td>499</td>\n",
              "      <td>499</td>\n",
              "      <td>499</td>\n",
              "      <td>499</td>\n",
              "      <td>499</td>\n",
              "      <td>499</td>\n",
              "      <td>499</td>\n",
              "      <td>499</td>\n",
              "      <td>499</td>\n",
              "      <td>499</td>\n",
              "      <td>499</td>\n",
              "      <td>499</td>\n",
              "      <td>499</td>\n",
              "      <td>499</td>\n",
              "      <td>499</td>\n",
              "      <td>499</td>\n",
              "      <td>499</td>\n",
              "      <td>499</td>\n",
              "      <td>499</td>\n",
              "      <td>499</td>\n",
              "      <td>499</td>\n",
              "      <td>499</td>\n",
              "      <td>499.000000</td>\n",
              "      <td>499.000000</td>\n",
              "    </tr>\n",
              "    <tr>\n",
              "      <th>unique</th>\n",
              "      <td>425</td>\n",
              "      <td>3</td>\n",
              "      <td>11</td>\n",
              "      <td>3</td>\n",
              "      <td>9</td>\n",
              "      <td>499</td>\n",
              "      <td>12</td>\n",
              "      <td>18</td>\n",
              "      <td>499</td>\n",
              "      <td>311</td>\n",
              "      <td>179</td>\n",
              "      <td>288</td>\n",
              "      <td>101</td>\n",
              "      <td>5</td>\n",
              "      <td>6</td>\n",
              "      <td>4</td>\n",
              "      <td>10</td>\n",
              "      <td>310</td>\n",
              "      <td>3</td>\n",
              "      <td>3</td>\n",
              "      <td>3</td>\n",
              "      <td>7</td>\n",
              "      <td>4</td>\n",
              "      <td>403</td>\n",
              "      <td>395</td>\n",
              "      <td>499</td>\n",
              "      <td>499.000000</td>\n",
              "      <td>499.000000</td>\n",
              "    </tr>\n",
              "    <tr>\n",
              "      <th>top</th>\n",
              "      <td>Used 2017 Toyota A</td>\n",
              "      <td>New</td>\n",
              "      <td>Nissan</td>\n",
              "      <td>B</td>\n",
              "      <td>SUV</td>\n",
              "      <td>91135</td>\n",
              "      <td>Jun</td>\n",
              "      <td>2012</td>\n",
              "      <td>762878</td>\n",
              "      <td>1411</td>\n",
              "      <td>1000</td>\n",
              "      <td>702</td>\n",
              "      <td>122</td>\n",
              "      <td>7</td>\n",
              "      <td>0</td>\n",
              "      <td>Petrol</td>\n",
              "      <td>6</td>\n",
              "      <td>1005</td>\n",
              "      <td>4</td>\n",
              "      <td>Manual</td>\n",
              "      <td>FWD</td>\n",
              "      <td>Green</td>\n",
              "      <td>Red</td>\n",
              "      <td>1779</td>\n",
              "      <td>1713</td>\n",
              "      <td>220158</td>\n",
              "      <td>112.489564</td>\n",
              "      <td>77.667783</td>\n",
              "    </tr>\n",
              "    <tr>\n",
              "      <th>freq</th>\n",
              "      <td>3</td>\n",
              "      <td>176</td>\n",
              "      <td>69</td>\n",
              "      <td>171</td>\n",
              "      <td>62</td>\n",
              "      <td>1</td>\n",
              "      <td>50</td>\n",
              "      <td>38</td>\n",
              "      <td>1</td>\n",
              "      <td>5</td>\n",
              "      <td>8</td>\n",
              "      <td>6</td>\n",
              "      <td>11</td>\n",
              "      <td>112</td>\n",
              "      <td>99</td>\n",
              "      <td>136</td>\n",
              "      <td>61</td>\n",
              "      <td>5</td>\n",
              "      <td>176</td>\n",
              "      <td>180</td>\n",
              "      <td>169</td>\n",
              "      <td>89</td>\n",
              "      <td>130</td>\n",
              "      <td>4</td>\n",
              "      <td>4</td>\n",
              "      <td>1</td>\n",
              "      <td>1.000000</td>\n",
              "      <td>1.000000</td>\n",
              "    </tr>\n",
              "  </tbody>\n",
              "</table>\n",
              "</div>\n",
              "      <button class=\"colab-df-convert\" onclick=\"convertToInteractive('df-5bc6d678-a79a-4a9c-a3ce-4ae478224151')\"\n",
              "              title=\"Convert this dataframe to an interactive table.\"\n",
              "              style=\"display:none;\">\n",
              "        \n",
              "  <svg xmlns=\"http://www.w3.org/2000/svg\" height=\"24px\"viewBox=\"0 0 24 24\"\n",
              "       width=\"24px\">\n",
              "    <path d=\"M0 0h24v24H0V0z\" fill=\"none\"/>\n",
              "    <path d=\"M18.56 5.44l.94 2.06.94-2.06 2.06-.94-2.06-.94-.94-2.06-.94 2.06-2.06.94zm-11 1L8.5 8.5l.94-2.06 2.06-.94-2.06-.94L8.5 2.5l-.94 2.06-2.06.94zm10 10l.94 2.06.94-2.06 2.06-.94-2.06-.94-.94-2.06-.94 2.06-2.06.94z\"/><path d=\"M17.41 7.96l-1.37-1.37c-.4-.4-.92-.59-1.43-.59-.52 0-1.04.2-1.43.59L10.3 9.45l-7.72 7.72c-.78.78-.78 2.05 0 2.83L4 21.41c.39.39.9.59 1.41.59.51 0 1.02-.2 1.41-.59l7.78-7.78 2.81-2.81c.8-.78.8-2.07 0-2.86zM5.41 20L4 18.59l7.72-7.72 1.47 1.35L5.41 20z\"/>\n",
              "  </svg>\n",
              "      </button>\n",
              "      \n",
              "  <style>\n",
              "    .colab-df-container {\n",
              "      display:flex;\n",
              "      flex-wrap:wrap;\n",
              "      gap: 12px;\n",
              "    }\n",
              "\n",
              "    .colab-df-convert {\n",
              "      background-color: #E8F0FE;\n",
              "      border: none;\n",
              "      border-radius: 50%;\n",
              "      cursor: pointer;\n",
              "      display: none;\n",
              "      fill: #1967D2;\n",
              "      height: 32px;\n",
              "      padding: 0 0 0 0;\n",
              "      width: 32px;\n",
              "    }\n",
              "\n",
              "    .colab-df-convert:hover {\n",
              "      background-color: #E2EBFA;\n",
              "      box-shadow: 0px 1px 2px rgba(60, 64, 67, 0.3), 0px 1px 3px 1px rgba(60, 64, 67, 0.15);\n",
              "      fill: #174EA6;\n",
              "    }\n",
              "\n",
              "    [theme=dark] .colab-df-convert {\n",
              "      background-color: #3B4455;\n",
              "      fill: #D2E3FC;\n",
              "    }\n",
              "\n",
              "    [theme=dark] .colab-df-convert:hover {\n",
              "      background-color: #434B5C;\n",
              "      box-shadow: 0px 1px 3px 1px rgba(0, 0, 0, 0.15);\n",
              "      filter: drop-shadow(0px 1px 2px rgba(0, 0, 0, 0.3));\n",
              "      fill: #FFFFFF;\n",
              "    }\n",
              "  </style>\n",
              "\n",
              "      <script>\n",
              "        const buttonEl =\n",
              "          document.querySelector('#df-5bc6d678-a79a-4a9c-a3ce-4ae478224151 button.colab-df-convert');\n",
              "        buttonEl.style.display =\n",
              "          google.colab.kernel.accessAllowed ? 'block' : 'none';\n",
              "\n",
              "        async function convertToInteractive(key) {\n",
              "          const element = document.querySelector('#df-5bc6d678-a79a-4a9c-a3ce-4ae478224151');\n",
              "          const dataTable =\n",
              "            await google.colab.kernel.invokeFunction('convertToInteractive',\n",
              "                                                     [key], {});\n",
              "          if (!dataTable) return;\n",
              "\n",
              "          const docLinkHtml = 'Like what you see? Visit the ' +\n",
              "            '<a target=\"_blank\" href=https://colab.research.google.com/notebooks/data_table.ipynb>data table notebook</a>'\n",
              "            + ' to learn more about interactive tables.';\n",
              "          element.innerHTML = '';\n",
              "          dataTable['output_type'] = 'display_data';\n",
              "          await google.colab.output.renderOutput(dataTable, element);\n",
              "          const docLink = document.createElement('div');\n",
              "          docLink.innerHTML = docLinkHtml;\n",
              "          element.appendChild(docLink);\n",
              "        }\n",
              "      </script>\n",
              "    </div>\n",
              "  </div>\n",
              "  "
            ],
            "text/plain": [
              "               Listed Name Condition    Make  ... Location    Latitude   Longitude\n",
              "count                  499       499     499  ...      499  499.000000  499.000000\n",
              "unique                 425         3      11  ...      499  499.000000  499.000000\n",
              "top     Used 2017 Toyota A       New  Nissan  ...   220158  112.489564   77.667783\n",
              "freq                     3       176      69  ...        1    1.000000    1.000000\n",
              "\n",
              "[4 rows x 28 columns]"
            ]
          },
          "metadata": {},
          "execution_count": 6
        }
      ]
    },
    {
      "cell_type": "code",
      "source": [
        "sns.countplot(x = df['Condition'])\n",
        "plt.show()"
      ],
      "metadata": {
        "colab": {
          "base_uri": "https://localhost:8080/",
          "height": 279
        },
        "id": "satjnLx_tuvI",
        "outputId": "87237f54-9738-4225-967a-75dd25cee072"
      },
      "execution_count": 7,
      "outputs": [
        {
          "output_type": "display_data",
          "data": {
            "image/png": "[encoded data removed]",
            "text/plain": [
              "<Figure size 432x288 with 1 Axes>"
            ]
          },
          "metadata": {
            "needs_background": "light"
          }
        }
      ]
    },
    {
      "cell_type": "code",
      "source": [
        "plt.figure(figsize=(20,6))\n",
        "sns.countplot(x = df['Make'])\n",
        "plt.show()"
      ],
      "metadata": {
        "colab": {
          "base_uri": "https://localhost:8080/",
          "height": 388
        },
        "id": "J-hmHqaGL6ci",
        "outputId": "df935d85-150e-419f-c1fa-24214273b768"
      },
      "execution_count": 8,
      "outputs": [
        {
          "output_type": "display_data",
          "data": {
            "image/png": "[encoded data removed]",
            "text/plain": [
              "<Figure size 1440x432 with 1 Axes>"
            ]
          },
          "metadata": {
            "needs_background": "light"
          }
        }
      ]
    },
    {
      "cell_type": "code",
      "source": [
        "plt.figure(figsize=(10,6))\n",
        "sns.countplot(x = df['Model'])\n",
        "plt.show()"
      ],
      "metadata": {
        "colab": {
          "base_uri": "https://localhost:8080/",
          "height": 388
        },
        "id": "PFR2Fl4wMshM",
        "outputId": "fb59fedc-23bd-4d88-8483-5f13bcd20e90"
      },
      "execution_count": 9,
      "outputs": [
        {
          "output_type": "display_data",
          "data": {
            "image/png": "[encoded data removed]",
            "text/plain": [
              "<Figure size 720x432 with 1 Axes>"
            ]
          },
          "metadata": {
            "needs_background": "light"
          }
        }
      ]
    },
    {
      "cell_type": "code",
      "source": [
        "plt.figure(figsize=(10,6))\n",
        "sns.countplot(x = df['Body'])\n",
        "plt.show()"
      ],
      "metadata": {
        "colab": {
          "base_uri": "https://localhost:8080/",
          "height": 388
        },
        "id": "aXDvNtMwNMy2",
        "outputId": "13d916a4-35e7-4978-8e1c-94fe68e9752a"
      },
      "execution_count": 10,
      "outputs": [
        {
          "output_type": "display_data",
          "data": {
            "image/png": "[encoded data removed]",
            "text/plain": [
              "<Figure size 720x432 with 1 Axes>"
            ]
          },
          "metadata": {
            "needs_background": "light"
          }
        }
      ]
    },
    {
      "cell_type": "code",
      "source": [
        "plt.figure(figsize=(10,6))\n",
        "sns.histplot(x = df['Mileage'])\n",
        "plt.show()"
      ],
      "metadata": {
        "colab": {
          "base_uri": "https://localhost:8080/",
          "height": 388
        },
        "id": "2dcmPkIQNWip",
        "outputId": "6cddeab9-6915-4f11-f36d-1723f75b2ca7"
      },
      "execution_count": 11,
      "outputs": [
        {
          "output_type": "display_data",
          "data": {
            "image/png": "[encoded data removed]",
            "text/plain": [
              "<Figure size 720x432 with 1 Axes>"
            ]
          },
          "metadata": {
            "needs_background": "light"
          }
        }
      ]
    },
    {
      "cell_type": "code",
      "source": [
        "plt.figure(figsize=(10,6))\n",
        "sns.histplot(x = df['Price'])\n",
        "plt.show()"
      ],
      "metadata": {
        "colab": {
          "base_uri": "https://localhost:8080/",
          "height": 388
        },
        "id": "oTprkMN6QQVd",
        "outputId": "88f4ffd8-369d-4a8d-c0bf-c7499f6b64d1"
      },
      "execution_count": 12,
      "outputs": [
        {
          "output_type": "display_data",
          "data": {
            "image/png": "[encoded data removed]",
            "text/plain": [
              "<Figure size 720x432 with 1 Axes>"
            ]
          },
          "metadata": {
            "needs_background": "light"
          }
        }
      ]
    },
    {
      "cell_type": "code",
      "source": [
        "plt.figure(figsize=(20,6))\n",
        "sns.countplot(x = df['Year'])\n",
        "plt.show()"
      ],
      "metadata": {
        "colab": {
          "base_uri": "https://localhost:8080/",
          "height": 388
        },
        "id": "LB7SAO74Qq4g",
        "outputId": "76848377-d96f-4323-d41f-c73d865fed5a"
      },
      "execution_count": 13,
      "outputs": [
        {
          "output_type": "display_data",
          "data": {
            "image/png": "[encoded data removed]",
            "text/plain": [
              "<Figure size 1440x432 with 1 Axes>"
            ]
          },
          "metadata": {
            "needs_background": "light"
          }
        }
      ]
    },
    {
      "cell_type": "code",
      "source": [
        "plt.figure(figsize=(10,6))\n",
        "sns.histplot(x = df['Seats'])\n",
        "plt.show()"
      ],
      "metadata": {
        "colab": {
          "base_uri": "https://localhost:8080/",
          "height": 388
        },
        "id": "Wygr1IovQ9uF",
        "outputId": "b6a86fe1-20ba-4a9c-f663-81ea338289c9"
      },
      "execution_count": 14,
      "outputs": [
        {
          "output_type": "display_data",
          "data": {
            "image/png": "[encoded data removed]",
            "text/plain": [
              "<Figure size 720x432 with 1 Axes>"
            ]
          },
          "metadata": {
            "needs_background": "light"
          }
        }
      ]
    },
    {
      "cell_type": "code",
      "source": [
        "plt.figure(figsize=(10,6))\n",
        "sns.countplot(x = df['Global NCAP'])\n",
        "plt.show()"
      ],
      "metadata": {
        "colab": {
          "base_uri": "https://localhost:8080/",
          "height": 388
        },
        "id": "ZA8k94RzROpW",
        "outputId": "b23abb94-e267-49ac-b1e3-13103e548473"
      },
      "execution_count": 15,
      "outputs": [
        {
          "output_type": "display_data",
          "data": {
            "image/png": "[encoded data removed]",
            "text/plain": [
              "<Figure size 720x432 with 1 Axes>"
            ]
          },
          "metadata": {
            "needs_background": "light"
          }
        }
      ]
    },
    {
      "cell_type": "code",
      "source": [
        "plt.figure(figsize=(10,6))\n",
        "sns.countplot(x = df['Fuel type'])\n",
        "plt.show()"
      ],
      "metadata": {
        "id": "Fph_CPWnTPvo",
        "outputId": "192f8648-db07-4009-f7f9-ca5defd37dec",
        "colab": {
          "base_uri": "https://localhost:8080/",
          "height": 388
        }
      },
      "execution_count": 16,
      "outputs": [
        {
          "output_type": "display_data",
          "data": {
            "image/png": "[encoded data removed]",
            "text/plain": [
              "<Figure size 720x432 with 1 Axes>"
            ]
          },
          "metadata": {
            "needs_background": "light"
          }
        }
      ]
    },
    {
      "cell_type": "markdown",
      "source": [
        "## Vectorizing the Data"
      ],
      "metadata": {
        "id": "BDZkwDY7Vkn1"
      }
    },
    {
      "cell_type": "code",
      "source": [
        ""
      ],
      "metadata": {
        "id": "-IkIxCtPTnxf"
      },
      "execution_count": null,
      "outputs": []
    },
    {
      "cell_type": "code",
      "source": [
        ""
      ],
      "metadata": {
        "id": "xGVHNlXDUzxH"
      },
      "execution_count": null,
      "outputs": []
    }
  ]
}