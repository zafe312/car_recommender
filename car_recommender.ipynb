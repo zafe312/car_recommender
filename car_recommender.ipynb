{
  "nbformat": 4,
  "nbformat_minor": 0,
  "metadata": {
    "colab": {
      "name": "car_recommender.ipynb",
      "provenance": [],
      "authorship_tag": "ABX9TyNhsv+WQXj9wvyg/4kfFaeP",
      "include_colab_link": true
    },
    "kernelspec": {
      "name": "python3",
      "display_name": "Python 3"
    },
    "language_info": {
      "name": "python"
    }
  },
  "cells": [
    {
      "cell_type": "markdown",
      "metadata": {
        "id": "view-in-github",
        "colab_type": "text"
      },
      "source": [
        "<a href=\"https://colab.research.google.com/github/zafe312/car_recommender/blob/main/car_recommender.ipynb\" target=\"_parent\"><img src=\"https://colab.research.google.com/assets/colab-badge.svg\" alt=\"Open In Colab\"/></a>"
      ]
    },
    {
      "cell_type": "markdown",
      "source": [
        "AI classifier to recommend cars based on user input"
      ],
      "metadata": {
        "id": "nEzSgorDovT3"
      }
    },
    {
      "cell_type": "code",
      "source": [
        ""
      ],
      "metadata": {
        "id": "gsjTzSOao3MI"
      },
      "execution_count": null,
      "outputs": []
    }
  ]
}