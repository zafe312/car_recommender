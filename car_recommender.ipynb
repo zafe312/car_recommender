{
  "nbformat": 4,
  "nbformat_minor": 0,
  "metadata": {
    "colab": {
      "name": "car_recommender.ipynb",
      "provenance": [],
      "authorship_tag": "ABX9TyNLOtoe0Ed2I4GU+oMf85hS",
      "include_colab_link": true
    },
    "kernelspec": {
      "name": "python3",
      "display_name": "Python 3"
    },
    "language_info": {
      "name": "python"
    }
  },
  "cells": [
    {
      "cell_type": "markdown",
      "metadata": {
        "id": "view-in-github",
        "colab_type": "text"
      },
      "source": [
        "<a href=\"https://colab.research.google.com/github/zafe312/car_recommender/blob/main/car_recommender.ipynb\" target=\"_parent\"><img src=\"https://colab.research.google.com/assets/colab-badge.svg\" alt=\"Open In Colab\"/></a>"
      ]
    },
    {
      "cell_type": "markdown",
      "source": [
        "# AI classifier to recommend cars based on user input\n",
        "\n",
        "\n",
        "1.   Create dataset\n",
        "2.   Test out different classifiers\n",
        "\n"
      ],
      "metadata": {
        "id": "nEzSgorDovT3"
      }
    },
    {
      "cell_type": "markdown",
      "source": [
        "## Create random dataset"
      ],
      "metadata": {
        "id": "wEdVeuaMLftj"
      }
    },
    {
      "cell_type": "code",
      "source": [
        "import pandas as pd\n",
        "import numpy as np\n",
        "import random"
      ],
      "metadata": {
        "id": "gsjTzSOao3MI"
      },
      "execution_count": 26,
      "outputs": []
    },
    {
      "cell_type": "code",
      "source": [
        "# Features of each datapoint\n",
        "columns = ['id', 'Listed Name', 'Condition', 'Make', 'Model', 'Body', 'Mileage', 'Month', 'Year', 'Price', 'Length', 'Width', 'Height', 'Ground clearance', 'Seats', \n",
        "           'Global NCAP', 'Fuel type', 'Engine', 'Displacement', 'Cylinder', 'Transmission', 'Drive', 'Exterior Color', 'Interior Color', 'Unladen weight', \n",
        "           'Gross vehicle weight', 'Location', 'Latitude', 'Longitude']"
      ],
      "metadata": {
        "id": "Qx9d4AVzqo6O"
      },
      "execution_count": 58,
      "outputs": []
    },
    {
      "cell_type": "code",
      "source": [
        "id = [1000 + i for i in range(1,500)]\n",
        "Condition = ['New', 'Used', 'Certified']\n",
        "Make = ['Hyundai', 'Tata', 'Mahindra', 'Nissan', 'Toyota', 'Kia', 'Ford', 'Chevrolet', 'Honda', 'Maruti Suzuki', 'Renault']\n",
        "Model = ['A','B','C']\n",
        "Body = ['Hatchback', 'SUV', 'CUV', 'MUV', 'Sedan', 'Minivan', 'Convertible', 'Coupe', 'Off-road']\n",
        "Month = ['Jan', 'Feb', 'Mar', 'Apr', 'May', 'Jun', 'Jul', 'Aug', 'Sep', 'Oct', 'Nov', 'Dec']\n",
        "Year = [2005 + i for i in range(18)]\n",
        "price_min = 300000\n",
        "price_max = 2200000\n",
        "Seats = [5,6,7,8,10]\n",
        "Ncap = [0,1,2,3,4,5]\n",
        "Fuel = ['Petrol', 'Diesel', 'Electric', 'Hybrid']\n",
        "Cylinder = [3,4,5]\n",
        "Transmission = ['Automatic', 'Semi-automatic', 'Manual']\n",
        "Drive = ['FWD', 'BWD', '4WD']\n",
        "Ext_color = ['White', 'Red', 'Black', 'Brown', 'Silver', 'Green', 'Biege']\n",
        "Int_color = ['Grey', 'Silver', 'Brown', 'Red']"
      ],
      "metadata": {
        "id": "cuvfS2sL5mf7"
      },
      "execution_count": 25,
      "outputs": []
    },
    {
      "cell_type": "code",
      "source": [
        "# Create DataFrame\n",
        "df = pd.DataFrame(columns=columns)\n",
        "\n",
        "# Generate random data \n",
        "for i in id:\n",
        "  condition = random.choice(Condition)\n",
        "  make = random.choice(Make)\n",
        "  model = random.choice(Model)\n",
        "  year = random.choice(Year)\n",
        "  listed_name = f'{condition} {year} {make} {model}'\n",
        "  body = random.choice(Body)\n",
        "  mileage = random.randint(2000,100000)\n",
        "  month = random.choice(Month)\n",
        "  price = random.randint(price_min,price_max)\n",
        "  length = random.randint(1000,1500)\n",
        "  width = random.randint(800,1000)\n",
        "  height = random.randint(600,1000)\n",
        "  gd_clearance = random.randint(100,200)\n",
        "  seats = random.choice(Seats)\n",
        "  ncap = random.choice(Ncap)\n",
        "  fuel = random.choice(Fuel)\n",
        "  engine = random.randint(1,10)\n",
        "  displacement = random.randint(1000,1500)\n",
        "  cylinder = random.choice(Cylinder)\n",
        "  transmission = random.choice(Transmission)\n",
        "  drive = random.choice(Drive)\n",
        "  ext_color = random.choice(Ext_color)\n",
        "  int_color = random.choice(Int_color)\n",
        "  un_weight = random.randint(1000,2000)\n",
        "  gross_weight = un_weight + random.randint(50, 100)\n",
        "  location = random.randint(183773,799382)\n",
        "  lat = random.uniform(80,127)\n",
        "  lon = random.uniform(68,97)\n",
        "\n",
        "\n",
        "  car = [i, listed_name, condition, make, model, body, mileage, month, year, price, length, width, height, \n",
        "         gd_clearance, seats, ncap, fuel, engine, displacement, cylinder, transmission, drive, ext_color, \n",
        "         int_color, un_weight, gross_weight, location, lat, lon]\n",
        "  df = pd.DataFrame(np.insert(df.values, len(df.index), values=car, axis=0))\n",
        "\n",
        "df.columns = columns\n",
        "df = df.set_index('id')\n",
        "df.head()"
      ],
      "metadata": {
        "colab": {
          "base_uri": "https://localhost:8080/",
          "height": 562
        },
        "id": "3CoLCZOT-CGT",
        "outputId": "76486212-2afb-4e08-e06e-82461c2e46b0"
      },
      "execution_count": 59,
      "outputs": [
        {
          "output_type": "execute_result",
          "data": {
            "text/html": [
              "\n",
              "  <div id=\"df-96361ddd-d6a2-452f-ade1-a3f6db4f3fcd\">\n",
              "    <div class=\"colab-df-container\">\n",
              "      <div>\n",
              "<style scoped>\n",
              "    .dataframe tbody tr th:only-of-type {\n",
              "        vertical-align: middle;\n",
              "    }\n",
              "\n",
              "    .dataframe tbody tr th {\n",
              "        vertical-align: top;\n",
              "    }\n",
              "\n",
              "    .dataframe thead th {\n",
              "        text-align: right;\n",
              "    }\n",
              "</style>\n",
              "<table border=\"1\" class=\"dataframe\">\n",
              "  <thead>\n",
              "    <tr style=\"text-align: right;\">\n",
              "      <th></th>\n",
              "      <th>Listed Name</th>\n",
              "      <th>Condition</th>\n",
              "      <th>Make</th>\n",
              "      <th>Model</th>\n",
              "      <th>Body</th>\n",
              "      <th>Mileage</th>\n",
              "      <th>Month</th>\n",
              "      <th>Year</th>\n",
              "      <th>Price</th>\n",
              "      <th>Length</th>\n",
              "      <th>Width</th>\n",
              "      <th>Height</th>\n",
              "      <th>Ground clearance</th>\n",
              "      <th>Seats</th>\n",
              "      <th>Global NCAP</th>\n",
              "      <th>Fuel type</th>\n",
              "      <th>Engine</th>\n",
              "      <th>Displacement</th>\n",
              "      <th>Cylinder</th>\n",
              "      <th>Transmission</th>\n",
              "      <th>Drive</th>\n",
              "      <th>Exterior Color</th>\n",
              "      <th>Interior Color</th>\n",
              "      <th>Unladen weight</th>\n",
              "      <th>Gross vehicle weight</th>\n",
              "      <th>Location</th>\n",
              "      <th>Latitude</th>\n",
              "      <th>Longitude</th>\n",
              "    </tr>\n",
              "    <tr>\n",
              "      <th>id</th>\n",
              "      <th></th>\n",
              "      <th></th>\n",
              "      <th></th>\n",
              "      <th></th>\n",
              "      <th></th>\n",
              "      <th></th>\n",
              "      <th></th>\n",
              "      <th></th>\n",
              "      <th></th>\n",
              "      <th></th>\n",
              "      <th></th>\n",
              "      <th></th>\n",
              "      <th></th>\n",
              "      <th></th>\n",
              "      <th></th>\n",
              "      <th></th>\n",
              "      <th></th>\n",
              "      <th></th>\n",
              "      <th></th>\n",
              "      <th></th>\n",
              "      <th></th>\n",
              "      <th></th>\n",
              "      <th></th>\n",
              "      <th></th>\n",
              "      <th></th>\n",
              "      <th></th>\n",
              "      <th></th>\n",
              "      <th></th>\n",
              "    </tr>\n",
              "  </thead>\n",
              "  <tbody>\n",
              "    <tr>\n",
              "      <th>1001</th>\n",
              "      <td>Used 2012 Honda B</td>\n",
              "      <td>Used</td>\n",
              "      <td>Honda</td>\n",
              "      <td>B</td>\n",
              "      <td>Coupe</td>\n",
              "      <td>13205</td>\n",
              "      <td>Feb</td>\n",
              "      <td>2012</td>\n",
              "      <td>737970</td>\n",
              "      <td>1445</td>\n",
              "      <td>879</td>\n",
              "      <td>652</td>\n",
              "      <td>130</td>\n",
              "      <td>6</td>\n",
              "      <td>5</td>\n",
              "      <td>Electric</td>\n",
              "      <td>2</td>\n",
              "      <td>1129</td>\n",
              "      <td>5</td>\n",
              "      <td>Automatic</td>\n",
              "      <td>FWD</td>\n",
              "      <td>Silver</td>\n",
              "      <td>Brown</td>\n",
              "      <td>1945</td>\n",
              "      <td>2027</td>\n",
              "      <td>269144</td>\n",
              "      <td>96.1204</td>\n",
              "      <td>76.1219</td>\n",
              "    </tr>\n",
              "    <tr>\n",
              "      <th>1002</th>\n",
              "      <td>Used 2022 Tata C</td>\n",
              "      <td>Used</td>\n",
              "      <td>Tata</td>\n",
              "      <td>C</td>\n",
              "      <td>Minivan</td>\n",
              "      <td>16617</td>\n",
              "      <td>Mar</td>\n",
              "      <td>2022</td>\n",
              "      <td>1966230</td>\n",
              "      <td>1272</td>\n",
              "      <td>855</td>\n",
              "      <td>755</td>\n",
              "      <td>138</td>\n",
              "      <td>8</td>\n",
              "      <td>5</td>\n",
              "      <td>Diesel</td>\n",
              "      <td>6</td>\n",
              "      <td>1395</td>\n",
              "      <td>4</td>\n",
              "      <td>Manual</td>\n",
              "      <td>BWD</td>\n",
              "      <td>Biege</td>\n",
              "      <td>Red</td>\n",
              "      <td>1094</td>\n",
              "      <td>1167</td>\n",
              "      <td>383068</td>\n",
              "      <td>108.8</td>\n",
              "      <td>71.5343</td>\n",
              "    </tr>\n",
              "    <tr>\n",
              "      <th>1003</th>\n",
              "      <td>New 2013 Ford A</td>\n",
              "      <td>New</td>\n",
              "      <td>Ford</td>\n",
              "      <td>A</td>\n",
              "      <td>SUV</td>\n",
              "      <td>6877</td>\n",
              "      <td>Jun</td>\n",
              "      <td>2013</td>\n",
              "      <td>2140402</td>\n",
              "      <td>1386</td>\n",
              "      <td>871</td>\n",
              "      <td>698</td>\n",
              "      <td>140</td>\n",
              "      <td>8</td>\n",
              "      <td>1</td>\n",
              "      <td>Electric</td>\n",
              "      <td>6</td>\n",
              "      <td>1368</td>\n",
              "      <td>5</td>\n",
              "      <td>Automatic</td>\n",
              "      <td>BWD</td>\n",
              "      <td>Brown</td>\n",
              "      <td>Grey</td>\n",
              "      <td>1997</td>\n",
              "      <td>2075</td>\n",
              "      <td>669330</td>\n",
              "      <td>93.9079</td>\n",
              "      <td>85.0446</td>\n",
              "    </tr>\n",
              "    <tr>\n",
              "      <th>1004</th>\n",
              "      <td>Certified 2009 Honda B</td>\n",
              "      <td>Certified</td>\n",
              "      <td>Honda</td>\n",
              "      <td>B</td>\n",
              "      <td>Off-road</td>\n",
              "      <td>43090</td>\n",
              "      <td>Jan</td>\n",
              "      <td>2009</td>\n",
              "      <td>1197572</td>\n",
              "      <td>1480</td>\n",
              "      <td>802</td>\n",
              "      <td>936</td>\n",
              "      <td>189</td>\n",
              "      <td>6</td>\n",
              "      <td>2</td>\n",
              "      <td>Petrol</td>\n",
              "      <td>2</td>\n",
              "      <td>1115</td>\n",
              "      <td>3</td>\n",
              "      <td>Automatic</td>\n",
              "      <td>4WD</td>\n",
              "      <td>Brown</td>\n",
              "      <td>Red</td>\n",
              "      <td>1060</td>\n",
              "      <td>1111</td>\n",
              "      <td>283621</td>\n",
              "      <td>91.2957</td>\n",
              "      <td>92.0096</td>\n",
              "    </tr>\n",
              "    <tr>\n",
              "      <th>1005</th>\n",
              "      <td>Certified 2009 Hyundai C</td>\n",
              "      <td>Certified</td>\n",
              "      <td>Hyundai</td>\n",
              "      <td>C</td>\n",
              "      <td>Minivan</td>\n",
              "      <td>45577</td>\n",
              "      <td>Jun</td>\n",
              "      <td>2009</td>\n",
              "      <td>1389812</td>\n",
              "      <td>1472</td>\n",
              "      <td>877</td>\n",
              "      <td>727</td>\n",
              "      <td>151</td>\n",
              "      <td>6</td>\n",
              "      <td>0</td>\n",
              "      <td>Petrol</td>\n",
              "      <td>5</td>\n",
              "      <td>1029</td>\n",
              "      <td>4</td>\n",
              "      <td>Semi-automatic</td>\n",
              "      <td>BWD</td>\n",
              "      <td>Green</td>\n",
              "      <td>Silver</td>\n",
              "      <td>1652</td>\n",
              "      <td>1720</td>\n",
              "      <td>507578</td>\n",
              "      <td>121.922</td>\n",
              "      <td>83.9216</td>\n",
              "    </tr>\n",
              "  </tbody>\n",
              "</table>\n",
              "</div>\n",
              "      <button class=\"colab-df-convert\" onclick=\"convertToInteractive('df-96361ddd-d6a2-452f-ade1-a3f6db4f3fcd')\"\n",
              "              title=\"Convert this dataframe to an interactive table.\"\n",
              "              style=\"display:none;\">\n",
              "        \n",
              "  <svg xmlns=\"http://www.w3.org/2000/svg\" height=\"24px\"viewBox=\"0 0 24 24\"\n",
              "       width=\"24px\">\n",
              "    <path d=\"M0 0h24v24H0V0z\" fill=\"none\"/>\n",
              "    <path d=\"M18.56 5.44l.94 2.06.94-2.06 2.06-.94-2.06-.94-.94-2.06-.94 2.06-2.06.94zm-11 1L8.5 8.5l.94-2.06 2.06-.94-2.06-.94L8.5 2.5l-.94 2.06-2.06.94zm10 10l.94 2.06.94-2.06 2.06-.94-2.06-.94-.94-2.06-.94 2.06-2.06.94z\"/><path d=\"M17.41 7.96l-1.37-1.37c-.4-.4-.92-.59-1.43-.59-.52 0-1.04.2-1.43.59L10.3 9.45l-7.72 7.72c-.78.78-.78 2.05 0 2.83L4 21.41c.39.39.9.59 1.41.59.51 0 1.02-.2 1.41-.59l7.78-7.78 2.81-2.81c.8-.78.8-2.07 0-2.86zM5.41 20L4 18.59l7.72-7.72 1.47 1.35L5.41 20z\"/>\n",
              "  </svg>\n",
              "      </button>\n",
              "      \n",
              "  <style>\n",
              "    .colab-df-container {\n",
              "      display:flex;\n",
              "      flex-wrap:wrap;\n",
              "      gap: 12px;\n",
              "    }\n",
              "\n",
              "    .colab-df-convert {\n",
              "      background-color: #E8F0FE;\n",
              "      border: none;\n",
              "      border-radius: 50%;\n",
              "      cursor: pointer;\n",
              "      display: none;\n",
              "      fill: #1967D2;\n",
              "      height: 32px;\n",
              "      padding: 0 0 0 0;\n",
              "      width: 32px;\n",
              "    }\n",
              "\n",
              "    .colab-df-convert:hover {\n",
              "      background-color: #E2EBFA;\n",
              "      box-shadow: 0px 1px 2px rgba(60, 64, 67, 0.3), 0px 1px 3px 1px rgba(60, 64, 67, 0.15);\n",
              "      fill: #174EA6;\n",
              "    }\n",
              "\n",
              "    [theme=dark] .colab-df-convert {\n",
              "      background-color: #3B4455;\n",
              "      fill: #D2E3FC;\n",
              "    }\n",
              "\n",
              "    [theme=dark] .colab-df-convert:hover {\n",
              "      background-color: #434B5C;\n",
              "      box-shadow: 0px 1px 3px 1px rgba(0, 0, 0, 0.15);\n",
              "      filter: drop-shadow(0px 1px 2px rgba(0, 0, 0, 0.3));\n",
              "      fill: #FFFFFF;\n",
              "    }\n",
              "  </style>\n",
              "\n",
              "      <script>\n",
              "        const buttonEl =\n",
              "          document.querySelector('#df-96361ddd-d6a2-452f-ade1-a3f6db4f3fcd button.colab-df-convert');\n",
              "        buttonEl.style.display =\n",
              "          google.colab.kernel.accessAllowed ? 'block' : 'none';\n",
              "\n",
              "        async function convertToInteractive(key) {\n",
              "          const element = document.querySelector('#df-96361ddd-d6a2-452f-ade1-a3f6db4f3fcd');\n",
              "          const dataTable =\n",
              "            await google.colab.kernel.invokeFunction('convertToInteractive',\n",
              "                                                     [key], {});\n",
              "          if (!dataTable) return;\n",
              "\n",
              "          const docLinkHtml = 'Like what you see? Visit the ' +\n",
              "            '<a target=\"_blank\" href=https://colab.research.google.com/notebooks/data_table.ipynb>data table notebook</a>'\n",
              "            + ' to learn more about interactive tables.';\n",
              "          element.innerHTML = '';\n",
              "          dataTable['output_type'] = 'display_data';\n",
              "          await google.colab.output.renderOutput(dataTable, element);\n",
              "          const docLink = document.createElement('div');\n",
              "          docLink.innerHTML = docLinkHtml;\n",
              "          element.appendChild(docLink);\n",
              "        }\n",
              "      </script>\n",
              "    </div>\n",
              "  </div>\n",
              "  "
            ],
            "text/plain": [
              "                   Listed Name  Condition     Make  ... Location Latitude Longitude\n",
              "id                                                  ...                            \n",
              "1001         Used 2012 Honda B       Used    Honda  ...   269144  96.1204   76.1219\n",
              "1002          Used 2022 Tata C       Used     Tata  ...   383068    108.8   71.5343\n",
              "1003           New 2013 Ford A        New     Ford  ...   669330  93.9079   85.0446\n",
              "1004    Certified 2009 Honda B  Certified    Honda  ...   283621  91.2957   92.0096\n",
              "1005  Certified 2009 Hyundai C  Certified  Hyundai  ...   507578  121.922   83.9216\n",
              "\n",
              "[5 rows x 28 columns]"
            ]
          },
          "metadata": {},
          "execution_count": 59
        }
      ]
    },
    {
      "cell_type": "markdown",
      "source": [
        "## Visualization"
      ],
      "metadata": {
        "id": "_6Sa1HvzLSeE"
      }
    },
    {
      "cell_type": "code",
      "source": [
        "import seaborn as sns\n",
        "import matplotlib.pyplot as plt\n",
        "%matplotlib inline"
      ],
      "metadata": {
        "id": "Fv7D8sHFLuRP"
      },
      "execution_count": 64,
      "outputs": []
    },
    {
      "cell_type": "code",
      "source": [
        "df.describe()"
      ],
      "metadata": {
        "colab": {
          "base_uri": "https://localhost:8080/",
          "height": 308
        },
        "id": "LhikGybgrAsd",
        "outputId": "a4bb5bf3-73e8-4e85-b66c-f9fc0c93435f"
      },
      "execution_count": 60,
      "outputs": [
        {
          "output_type": "execute_result",
          "data": {
            "text/html": [
              "\n",
              "  <div id=\"df-972d98cb-cc19-48df-bc6d-75d94e373734\">\n",
              "    <div class=\"colab-df-container\">\n",
              "      <div>\n",
              "<style scoped>\n",
              "    .dataframe tbody tr th:only-of-type {\n",
              "        vertical-align: middle;\n",
              "    }\n",
              "\n",
              "    .dataframe tbody tr th {\n",
              "        vertical-align: top;\n",
              "    }\n",
              "\n",
              "    .dataframe thead th {\n",
              "        text-align: right;\n",
              "    }\n",
              "</style>\n",
              "<table border=\"1\" class=\"dataframe\">\n",
              "  <thead>\n",
              "    <tr style=\"text-align: right;\">\n",
              "      <th></th>\n",
              "      <th>Listed Name</th>\n",
              "      <th>Condition</th>\n",
              "      <th>Make</th>\n",
              "      <th>Model</th>\n",
              "      <th>Body</th>\n",
              "      <th>Mileage</th>\n",
              "      <th>Month</th>\n",
              "      <th>Year</th>\n",
              "      <th>Price</th>\n",
              "      <th>Length</th>\n",
              "      <th>Width</th>\n",
              "      <th>Height</th>\n",
              "      <th>Ground clearance</th>\n",
              "      <th>Seats</th>\n",
              "      <th>Global NCAP</th>\n",
              "      <th>Fuel type</th>\n",
              "      <th>Engine</th>\n",
              "      <th>Displacement</th>\n",
              "      <th>Cylinder</th>\n",
              "      <th>Transmission</th>\n",
              "      <th>Drive</th>\n",
              "      <th>Exterior Color</th>\n",
              "      <th>Interior Color</th>\n",
              "      <th>Unladen weight</th>\n",
              "      <th>Gross vehicle weight</th>\n",
              "      <th>Location</th>\n",
              "      <th>Latitude</th>\n",
              "      <th>Longitude</th>\n",
              "    </tr>\n",
              "  </thead>\n",
              "  <tbody>\n",
              "    <tr>\n",
              "      <th>count</th>\n",
              "      <td>499</td>\n",
              "      <td>499</td>\n",
              "      <td>499</td>\n",
              "      <td>499</td>\n",
              "      <td>499</td>\n",
              "      <td>499</td>\n",
              "      <td>499</td>\n",
              "      <td>499</td>\n",
              "      <td>499</td>\n",
              "      <td>499</td>\n",
              "      <td>499</td>\n",
              "      <td>499</td>\n",
              "      <td>499</td>\n",
              "      <td>499</td>\n",
              "      <td>499</td>\n",
              "      <td>499</td>\n",
              "      <td>499</td>\n",
              "      <td>499</td>\n",
              "      <td>499</td>\n",
              "      <td>499</td>\n",
              "      <td>499</td>\n",
              "      <td>499</td>\n",
              "      <td>499</td>\n",
              "      <td>499</td>\n",
              "      <td>499</td>\n",
              "      <td>499</td>\n",
              "      <td>499.000000</td>\n",
              "      <td>499.000000</td>\n",
              "    </tr>\n",
              "    <tr>\n",
              "      <th>unique</th>\n",
              "      <td>432</td>\n",
              "      <td>3</td>\n",
              "      <td>11</td>\n",
              "      <td>3</td>\n",
              "      <td>9</td>\n",
              "      <td>498</td>\n",
              "      <td>12</td>\n",
              "      <td>18</td>\n",
              "      <td>499</td>\n",
              "      <td>326</td>\n",
              "      <td>185</td>\n",
              "      <td>280</td>\n",
              "      <td>101</td>\n",
              "      <td>5</td>\n",
              "      <td>6</td>\n",
              "      <td>4</td>\n",
              "      <td>10</td>\n",
              "      <td>330</td>\n",
              "      <td>3</td>\n",
              "      <td>3</td>\n",
              "      <td>3</td>\n",
              "      <td>7</td>\n",
              "      <td>4</td>\n",
              "      <td>397</td>\n",
              "      <td>394</td>\n",
              "      <td>499</td>\n",
              "      <td>499.000000</td>\n",
              "      <td>499.000000</td>\n",
              "    </tr>\n",
              "    <tr>\n",
              "      <th>top</th>\n",
              "      <td>New 2016 Kia B</td>\n",
              "      <td>Used</td>\n",
              "      <td>Ford</td>\n",
              "      <td>B</td>\n",
              "      <td>Hatchback</td>\n",
              "      <td>73156</td>\n",
              "      <td>Oct</td>\n",
              "      <td>2011</td>\n",
              "      <td>1560574</td>\n",
              "      <td>1115</td>\n",
              "      <td>888</td>\n",
              "      <td>878</td>\n",
              "      <td>113</td>\n",
              "      <td>6</td>\n",
              "      <td>5</td>\n",
              "      <td>Hybrid</td>\n",
              "      <td>3</td>\n",
              "      <td>1105</td>\n",
              "      <td>4</td>\n",
              "      <td>Automatic</td>\n",
              "      <td>FWD</td>\n",
              "      <td>Black</td>\n",
              "      <td>Silver</td>\n",
              "      <td>1105</td>\n",
              "      <td>1451</td>\n",
              "      <td>435298</td>\n",
              "      <td>112.866839</td>\n",
              "      <td>77.496613</td>\n",
              "    </tr>\n",
              "    <tr>\n",
              "      <th>freq</th>\n",
              "      <td>3</td>\n",
              "      <td>173</td>\n",
              "      <td>52</td>\n",
              "      <td>173</td>\n",
              "      <td>65</td>\n",
              "      <td>2</td>\n",
              "      <td>48</td>\n",
              "      <td>37</td>\n",
              "      <td>1</td>\n",
              "      <td>5</td>\n",
              "      <td>7</td>\n",
              "      <td>5</td>\n",
              "      <td>10</td>\n",
              "      <td>107</td>\n",
              "      <td>96</td>\n",
              "      <td>137</td>\n",
              "      <td>66</td>\n",
              "      <td>5</td>\n",
              "      <td>169</td>\n",
              "      <td>190</td>\n",
              "      <td>175</td>\n",
              "      <td>80</td>\n",
              "      <td>138</td>\n",
              "      <td>4</td>\n",
              "      <td>4</td>\n",
              "      <td>1</td>\n",
              "      <td>1.000000</td>\n",
              "      <td>1.000000</td>\n",
              "    </tr>\n",
              "  </tbody>\n",
              "</table>\n",
              "</div>\n",
              "      <button class=\"colab-df-convert\" onclick=\"convertToInteractive('df-972d98cb-cc19-48df-bc6d-75d94e373734')\"\n",
              "              title=\"Convert this dataframe to an interactive table.\"\n",
              "              style=\"display:none;\">\n",
              "        \n",
              "  <svg xmlns=\"http://www.w3.org/2000/svg\" height=\"24px\"viewBox=\"0 0 24 24\"\n",
              "       width=\"24px\">\n",
              "    <path d=\"M0 0h24v24H0V0z\" fill=\"none\"/>\n",
              "    <path d=\"M18.56 5.44l.94 2.06.94-2.06 2.06-.94-2.06-.94-.94-2.06-.94 2.06-2.06.94zm-11 1L8.5 8.5l.94-2.06 2.06-.94-2.06-.94L8.5 2.5l-.94 2.06-2.06.94zm10 10l.94 2.06.94-2.06 2.06-.94-2.06-.94-.94-2.06-.94 2.06-2.06.94z\"/><path d=\"M17.41 7.96l-1.37-1.37c-.4-.4-.92-.59-1.43-.59-.52 0-1.04.2-1.43.59L10.3 9.45l-7.72 7.72c-.78.78-.78 2.05 0 2.83L4 21.41c.39.39.9.59 1.41.59.51 0 1.02-.2 1.41-.59l7.78-7.78 2.81-2.81c.8-.78.8-2.07 0-2.86zM5.41 20L4 18.59l7.72-7.72 1.47 1.35L5.41 20z\"/>\n",
              "  </svg>\n",
              "      </button>\n",
              "      \n",
              "  <style>\n",
              "    .colab-df-container {\n",
              "      display:flex;\n",
              "      flex-wrap:wrap;\n",
              "      gap: 12px;\n",
              "    }\n",
              "\n",
              "    .colab-df-convert {\n",
              "      background-color: #E8F0FE;\n",
              "      border: none;\n",
              "      border-radius: 50%;\n",
              "      cursor: pointer;\n",
              "      display: none;\n",
              "      fill: #1967D2;\n",
              "      height: 32px;\n",
              "      padding: 0 0 0 0;\n",
              "      width: 32px;\n",
              "    }\n",
              "\n",
              "    .colab-df-convert:hover {\n",
              "      background-color: #E2EBFA;\n",
              "      box-shadow: 0px 1px 2px rgba(60, 64, 67, 0.3), 0px 1px 3px 1px rgba(60, 64, 67, 0.15);\n",
              "      fill: #174EA6;\n",
              "    }\n",
              "\n",
              "    [theme=dark] .colab-df-convert {\n",
              "      background-color: #3B4455;\n",
              "      fill: #D2E3FC;\n",
              "    }\n",
              "\n",
              "    [theme=dark] .colab-df-convert:hover {\n",
              "      background-color: #434B5C;\n",
              "      box-shadow: 0px 1px 3px 1px rgba(0, 0, 0, 0.15);\n",
              "      filter: drop-shadow(0px 1px 2px rgba(0, 0, 0, 0.3));\n",
              "      fill: #FFFFFF;\n",
              "    }\n",
              "  </style>\n",
              "\n",
              "      <script>\n",
              "        const buttonEl =\n",
              "          document.querySelector('#df-972d98cb-cc19-48df-bc6d-75d94e373734 button.colab-df-convert');\n",
              "        buttonEl.style.display =\n",
              "          google.colab.kernel.accessAllowed ? 'block' : 'none';\n",
              "\n",
              "        async function convertToInteractive(key) {\n",
              "          const element = document.querySelector('#df-972d98cb-cc19-48df-bc6d-75d94e373734');\n",
              "          const dataTable =\n",
              "            await google.colab.kernel.invokeFunction('convertToInteractive',\n",
              "                                                     [key], {});\n",
              "          if (!dataTable) return;\n",
              "\n",
              "          const docLinkHtml = 'Like what you see? Visit the ' +\n",
              "            '<a target=\"_blank\" href=https://colab.research.google.com/notebooks/data_table.ipynb>data table notebook</a>'\n",
              "            + ' to learn more about interactive tables.';\n",
              "          element.innerHTML = '';\n",
              "          dataTable['output_type'] = 'display_data';\n",
              "          await google.colab.output.renderOutput(dataTable, element);\n",
              "          const docLink = document.createElement('div');\n",
              "          docLink.innerHTML = docLinkHtml;\n",
              "          element.appendChild(docLink);\n",
              "        }\n",
              "      </script>\n",
              "    </div>\n",
              "  </div>\n",
              "  "
            ],
            "text/plain": [
              "           Listed Name Condition  Make  ... Location    Latitude   Longitude\n",
              "count              499       499   499  ...      499  499.000000  499.000000\n",
              "unique             432         3    11  ...      499  499.000000  499.000000\n",
              "top     New 2016 Kia B      Used  Ford  ...   435298  112.866839   77.496613\n",
              "freq                 3       173    52  ...        1    1.000000    1.000000\n",
              "\n",
              "[4 rows x 28 columns]"
            ]
          },
          "metadata": {},
          "execution_count": 60
        }
      ]
    },
    {
      "cell_type": "code",
      "source": [
        "sns.countplot(x = df['Condition'])\n",
        "plt.show()"
      ],
      "metadata": {
        "colab": {
          "base_uri": "https://localhost:8080/",
          "height": 279
        },
        "id": "satjnLx_tuvI",
        "outputId": "4372ae5e-00a6-4efe-9d07-76e9d3fda86c"
      },
      "execution_count": 68,
      "outputs": [
        {
          "output_type": "display_data",
          "data": {
            "image/png": "[encoded data removed]",
            "text/plain": [
              "<Figure size 432x288 with 1 Axes>"
            ]
          },
          "metadata": {
            "needs_background": "light"
          }
        }
      ]
    },
    {
      "cell_type": "code",
      "source": [
        "plt.figure(figsize=(20,6))\n",
        "sns.countplot(x = df['Make'])\n",
        "plt.show()"
      ],
      "metadata": {
        "colab": {
          "base_uri": "https://localhost:8080/",
          "height": 388
        },
        "id": "J-hmHqaGL6ci",
        "outputId": "f46d0331-484a-416d-85dc-824cbf932377"
      },
      "execution_count": 72,
      "outputs": [
        {
          "output_type": "display_data",
          "data": {
            "image/png": "[encoded data removed]",
            "text/plain": [
              "<Figure size 1440x432 with 1 Axes>"
            ]
          },
          "metadata": {
            "needs_background": "light"
          }
        }
      ]
    },
    {
      "cell_type": "code",
      "source": [
        "plt.figure(figsize=(10,6))\n",
        "sns.countplot(x = df['Model'])\n",
        "plt.show()"
      ],
      "metadata": {
        "colab": {
          "base_uri": "https://localhost:8080/",
          "height": 388
        },
        "id": "PFR2Fl4wMshM",
        "outputId": "3861570a-c601-4128-8397-608a9731a10d"
      },
      "execution_count": 74,
      "outputs": [
        {
          "output_type": "display_data",
          "data": {
            "image/png": "[encoded data removed]",
            "text/plain": [
              "<Figure size 720x432 with 1 Axes>"
            ]
          },
          "metadata": {
            "needs_background": "light"
          }
        }
      ]
    },
    {
      "cell_type": "code",
      "source": [
        "plt.figure(figsize=(10,6))\n",
        "sns.countplot(x = df['Body'])\n",
        "plt.show()"
      ],
      "metadata": {
        "colab": {
          "base_uri": "https://localhost:8080/",
          "height": 388
        },
        "id": "aXDvNtMwNMy2",
        "outputId": "d45166d6-177b-4b9c-b099-fee1c41874c3"
      },
      "execution_count": 88,
      "outputs": [
        {
          "output_type": "display_data",
          "data": {
            "image/png": "[encoded data removed]",
            "text/plain": [
              "<Figure size 720x432 with 1 Axes>"
            ]
          },
          "metadata": {
            "needs_background": "light"
          }
        }
      ]
    },
    {
      "cell_type": "code",
      "source": [
        "plt.figure(figsize=(10,6))\n",
        "sns.histplot(x = df['Mileage'])\n",
        "plt.show()"
      ],
      "metadata": {
        "colab": {
          "base_uri": "https://localhost:8080/",
          "height": 388
        },
        "id": "2dcmPkIQNWip",
        "outputId": "0eb51713-f067-4840-c04d-8a508a187c05"
      },
      "execution_count": 86,
      "outputs": [
        {
          "output_type": "display_data",
          "data": {
            "image/png": "[encoded data removed]",
            "text/plain": [
              "<Figure size 720x432 with 1 Axes>"
            ]
          },
          "metadata": {
            "needs_background": "light"
          }
        }
      ]
    },
    {
      "cell_type": "code",
      "source": [
        "plt.figure(figsize=(10,6))\n",
        "sns.histplot(x = df['Price'])\n",
        "plt.show()"
      ],
      "metadata": {
        "colab": {
          "base_uri": "https://localhost:8080/",
          "height": 388
        },
        "id": "oTprkMN6QQVd",
        "outputId": "4277a000-54a4-4b3f-8def-e9f2dee1079b"
      },
      "execution_count": 87,
      "outputs": [
        {
          "output_type": "display_data",
          "data": {
            "image/png": "[encoded data removed]",
            "text/plain": [
              "<Figure size 720x432 with 1 Axes>"
            ]
          },
          "metadata": {
            "needs_background": "light"
          }
        }
      ]
    },
    {
      "cell_type": "code",
      "source": [
        "plt.figure(figsize=(20,6))\n",
        "sns.countplot(x = df['Year'])\n",
        "plt.show()"
      ],
      "metadata": {
        "colab": {
          "base_uri": "https://localhost:8080/",
          "height": 388
        },
        "id": "LB7SAO74Qq4g",
        "outputId": "615e058c-5257-42a6-f682-b274059412da"
      },
      "execution_count": 83,
      "outputs": [
        {
          "output_type": "display_data",
          "data": {
            "image/png": "[encoded data removed]",
            "text/plain": [
              "<Figure size 1440x432 with 1 Axes>"
            ]
          },
          "metadata": {
            "needs_background": "light"
          }
        }
      ]
    },
    {
      "cell_type": "code",
      "source": [
        "plt.figure(figsize=(10,6))\n",
        "sns.histplot(x = df['Seats'])\n",
        "plt.show()"
      ],
      "metadata": {
        "colab": {
          "base_uri": "https://localhost:8080/",
          "height": 388
        },
        "id": "Wygr1IovQ9uF",
        "outputId": "1ac3380b-b13e-4902-e550-ea38ed6eb90d"
      },
      "execution_count": 90,
      "outputs": [
        {
          "output_type": "display_data",
          "data": {
            "image/png": "[encoded data removed]",
            "text/plain": [
              "<Figure size 720x432 with 1 Axes>"
            ]
          },
          "metadata": {
            "needs_background": "light"
          }
        }
      ]
    },
    {
      "cell_type": "code",
      "source": [
        "plt.figure(figsize=(10,6))\n",
        "sns.countplot(x = df['Global NCAP'])\n",
        "plt.show()"
      ],
      "metadata": {
        "colab": {
          "base_uri": "https://localhost:8080/",
          "height": 389
        },
        "id": "ZA8k94RzROpW",
        "outputId": "48249328-e284-4f75-f251-48e478151af1"
      },
      "execution_count": 95,
      "outputs": [
        {
          "output_type": "display_data",
          "data": {
            "image/png": "[encoded data removed]",
            "text/plain": [
              "<Figure size 720x432 with 1 Axes>"
            ]
          },
          "metadata": {
            "needs_background": "light"
          }
        }
      ]
    },
    {
      "cell_type": "code",
      "source": [
        "plt.figure(figsize=(10,6))\n",
        "sns.countplot(x = df['Fuel type'])\n",
        "plt.show()"
      ],
      "metadata": {
        "id": "Fph_CPWnTPvo",
        "outputId": "f03087ad-d407-46ee-88e5-0c299e46325f",
        "colab": {
          "base_uri": "https://localhost:8080/",
          "height": 388
        }
      },
      "execution_count": 97,
      "outputs": [
        {
          "output_type": "display_data",
          "data": {
            "image/png": "[encoded data removed]",
            "text/plain": [
              "<Figure size 720x432 with 1 Axes>"
            ]
          },
          "metadata": {
            "needs_background": "light"
          }
        }
      ]
    },
    {
      "cell_type": "markdown",
      "source": [
        "## Vectorizing the Data"
      ],
      "metadata": {
        "id": "BDZkwDY7Vkn1"
      }
    },
    {
      "cell_type": "code",
      "source": [
        ""
      ],
      "metadata": {
        "id": "-IkIxCtPTnxf"
      },
      "execution_count": 99,
      "outputs": []
    },
    {
      "cell_type": "code",
      "source": [
        ""
      ],
      "metadata": {
        "id": "xGVHNlXDUzxH"
      },
      "execution_count": null,
      "outputs": []
    }
  ]
}